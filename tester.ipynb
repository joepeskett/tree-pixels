{
  "nbformat": 4,
  "nbformat_minor": 0,
  "metadata": {
    "colab": {
      "name": "tester.ipynb",
      "provenance": [],
      "private_outputs": true,
      "authorship_tag": "ABX9TyMS6H22Y8fcz9Pau4yUw5uT",
      "include_colab_link": true
    },
    "kernelspec": {
      "name": "python3",
      "display_name": "Python 3"
    }
  },
  "cells": [
    {
      "cell_type": "markdown",
      "metadata": {
        "id": "view-in-github",
        "colab_type": "text"
      },
      "source": [
        "<a href=\"https://colab.research.google.com/github/joepeskett/tree-pixels/blob/master/tester.ipynb\" target=\"_parent\"><img src=\"https://colab.research.google.com/assets/colab-badge.svg\" alt=\"Open In Colab\"/></a>"
      ]
    },
    {
      "cell_type": "markdown",
      "metadata": {
        "id": "9XUHpiIIGYfZ",
        "colab_type": "text"
      },
      "source": [
        "\n",
        "\n",
        "# Basic Housing Examples\n",
        "\n",
        "> Refresher\n",
        "\n",
        "This is a basic walkthrough from Hands on Machine Learning with Scikit Lean and Tensorflow. Notebook used as a refresher after doing lots of Ops/K8s bits more recently, and not very much pandas/sklearn. \n"
      ]
    },
    {
      "cell_type": "code",
      "metadata": {
        "id": "J1UoAwA2EqBd",
        "colab_type": "code",
        "colab": {}
      },
      "source": [
        "  import os, tarfile, urllib\n"
      ],
      "execution_count": 0,
      "outputs": []
    },
    {
      "cell_type": "code",
      "metadata": {
        "id": "G7MBRMl9GQ0x",
        "colab_type": "code",
        "colab": {}
      },
      "source": [
        "DOWNLOAD_ROOT = \"https://raw.githubusercontent.com/ageron/handson-ml2/master/\"\n",
        "HOUSING_PATH = os.path.join(\"datasets\", \"housing\")\n",
        "HOUSING_URL = DOWNLOAD_ROOT + \"datasets/housing/housing.tgz\""
      ],
      "execution_count": 0,
      "outputs": []
    },
    {
      "cell_type": "code",
      "metadata": {
        "id": "HleurtxCGQ9a",
        "colab_type": "code",
        "colab": {}
      },
      "source": [
        "def fetch_housing(housing_url = HOUSING_URL, housing_path = HOUSING_PATH):\n",
        "    os.makedirs(housing_path,  exist_ok = True)\n",
        "    tgz_path = os.path.join(housing_path, \"housing.tgz\")\n",
        "    urllib.request.urlretrieve(housing_url, tgz_path)\n",
        "    housing_tgz = tarfile.open(tgz_path)\n",
        "    housing_tgz.extractall(path = housing_path)\n",
        "    housing_tgz.close()\n"
      ],
      "execution_count": 0,
      "outputs": []
    },
    {
      "cell_type": "code",
      "metadata": {
        "id": "ebejefHPGQ_0",
        "colab_type": "code",
        "colab": {}
      },
      "source": [
        "import pandas as pd\n",
        "def load_housing_data(housing_path = HOUSING_PATH):\n",
        "  csv_path = os.path.join(housing_path, \"housing.csv\")\n",
        "  return pd.read_csv(csv_path)\n",
        "\n"
      ],
      "execution_count": 0,
      "outputs": []
    },
    {
      "cell_type": "code",
      "metadata": {
        "id": "ZL0Z1Xn7GRE1",
        "colab_type": "code",
        "colab": {}
      },
      "source": [
        "fetch_housing()\n",
        "housing = load_housing_data()"
      ],
      "execution_count": 0,
      "outputs": []
    },
    {
      "cell_type": "code",
      "metadata": {
        "id": "MuWwcSG6IXWB",
        "colab_type": "code",
        "colab": {}
      },
      "source": [
        "housing.head()"
      ],
      "execution_count": 0,
      "outputs": []
    },
    {
      "cell_type": "code",
      "metadata": {
        "id": "eNRW8ywUIYm_",
        "colab_type": "code",
        "colab": {}
      },
      "source": [
        "import numpy as np\n",
        "import matplotlib.pyplot as plt\n",
        "from sklearn.model_selection import train_test_split\n",
        "train_set, test_set = train_test_split(housing, test_size = 0.2, random_state = 42)\n"
      ],
      "execution_count": 0,
      "outputs": []
    },
    {
      "cell_type": "markdown",
      "metadata": {
        "id": "5gyhYaY3KUuY",
        "colab_type": "text"
      },
      "source": [
        "This is fine for regular splits, but what if we want to stratify our splits. "
      ]
    },
    {
      "cell_type": "code",
      "metadata": {
        "id": "AOxx9f8rJwHK",
        "colab_type": "code",
        "colab": {}
      },
      "source": [
        "housing['income_cat'] = pd.cut(housing['median_income'], bins = [0., 1.5, 3.,4.5, 6., np.inf], labels = [1, 2, 3, 4, 5])"
      ],
      "execution_count": 0,
      "outputs": []
    },
    {
      "cell_type": "code",
      "metadata": {
        "id": "db8CYDcGJwCP",
        "colab_type": "code",
        "colab": {}
      },
      "source": [
        "housing['income_cat'].hist()"
      ],
      "execution_count": 0,
      "outputs": []
    },
    {
      "cell_type": "code",
      "metadata": {
        "id": "GKOfXwsrJwBN",
        "colab_type": "code",
        "colab": {}
      },
      "source": [
        "from sklearn.model_selection import StratifiedShuffleSplit\n",
        "split = StratifiedShuffleSplit(n_splits = 1, test_size = 0.2, random_state=43)\n",
        "for train_index, test_index in split.split(housing, housing['income_cat']):\n",
        "  strat_train_set = housing.loc[train_index]\n",
        "  strat_test_set = housing.loc[test_index]"
      ],
      "execution_count": 0,
      "outputs": []
    },
    {
      "cell_type": "code",
      "metadata": {
        "id": "Duv9Ka22Jv-D",
        "colab_type": "code",
        "colab": {}
      },
      "source": [
        "strat_test_set['income_cat'].value_counts() / len(strat_test_set)"
      ],
      "execution_count": 0,
      "outputs": []
    },
    {
      "cell_type": "code",
      "metadata": {
        "id": "mfW8i2fGJv6z",
        "colab_type": "code",
        "colab": {}
      },
      "source": [
        "#Remove the income_cat variable\n",
        "for set_ in (strat_train_set, strat_test_set):\n",
        "  set_.drop(\"income_cat\", axis = 1, inplace = True)"
      ],
      "execution_count": 0,
      "outputs": []
    },
    {
      "cell_type": "markdown",
      "metadata": {
        "id": "oYJymFDlLkKi",
        "colab_type": "text"
      },
      "source": [
        "# Visualisation in MatPlotLib\n",
        "\n",
        "Because we need pretty pictures and colours. "
      ]
    },
    {
      "cell_type": "code",
      "metadata": {
        "id": "ks3G-YKtJv3p",
        "colab_type": "code",
        "colab": {}
      },
      "source": [
        "# make a copy of the train set (only because it's pretty small to begin with)\n",
        "\n",
        "housing = strat_test_set.copy()"
      ],
      "execution_count": 0,
      "outputs": []
    },
    {
      "cell_type": "code",
      "metadata": {
        "id": "aRRY47fUJv0j",
        "colab_type": "code",
        "colab": {}
      },
      "source": [
        "housing.plot(kind = \"scatter\", x = \"longitude\", y = \"latitude\")"
      ],
      "execution_count": 0,
      "outputs": []
    },
    {
      "cell_type": "code",
      "metadata": {
        "id": "2Q8AdaHXJvxi",
        "colab_type": "code",
        "colab": {}
      },
      "source": [
        "housing.plot(kind = \"scatter\", x = \"longitude\", y = \"latitude\", alpha = 0.1)"
      ],
      "execution_count": 0,
      "outputs": []
    },
    {
      "cell_type": "code",
      "metadata": {
        "id": "XqGertDmJvun",
        "colab_type": "code",
        "colab": {}
      },
      "source": [
        "housing.plot(kind = \"scatter\", x = \"longitude\", y = \"latitude\", alpha = 0.4, \n",
        "             s = housing['population']/100, label = \"population\", figsize = (10, 7), \n",
        "             c = \"median_house_value\", cmap = plt.get_cmap(\"jet\"), colorbar = True)\n",
        "plt.legend()"
      ],
      "execution_count": 0,
      "outputs": []
    },
    {
      "cell_type": "code",
      "metadata": {
        "id": "Z_VKT98tJvr7",
        "colab_type": "code",
        "colab": {}
      },
      "source": [
        "# Correlations\n",
        "\n",
        "corr_matrix=housing.corr()\n",
        "corr_matrix['median_house_value'].sort_values(ascending = False)"
      ],
      "execution_count": 0,
      "outputs": []
    },
    {
      "cell_type": "code",
      "metadata": {
        "id": "EvBCFHBMJvot",
        "colab_type": "code",
        "colab": {}
      },
      "source": [
        "from pandas.plotting import scatter_matrix\n",
        "attributes = ['median_house_value', 'median_income', 'total_rooms', 'housing_median_age']\n",
        "scatter_matrix(housing[attributes], figsize = (12, 8))"
      ],
      "execution_count": 0,
      "outputs": []
    },
    {
      "cell_type": "markdown",
      "metadata": {
        "id": "_LgmkDMYPz6E",
        "colab_type": "text"
      },
      "source": [
        "#Data Cleaning \n",
        "\n",
        "*Yay...*"
      ]
    },
    {
      "cell_type": "code",
      "metadata": {
        "id": "yF1q-52eJvZv",
        "colab_type": "code",
        "colab": {}
      },
      "source": [
        "#Missing Values\n",
        "#1\n",
        "#housing.dropna(subset = ['total_bedrooms'])\n",
        "#2\n",
        "#housing.drop('total_bedrooms', axis = 1)\n",
        "#3\n",
        "#median = housing['total_bedrooms'].median()\n",
        "#housing['total_bedrooms'].fillna(median, inplace = True)\n"
      ],
      "execution_count": 0,
      "outputs": []
    },
    {
      "cell_type": "code",
      "metadata": {
        "id": "S0lYZNqcntlv",
        "colab_type": "code",
        "colab": {}
      },
      "source": [
        "housing = strat_train_set.drop(\"median_house_value\", axis = 1)\n",
        "housing_labels = strat_train_set[\"median_house_value\"].copy()"
      ],
      "execution_count": 0,
      "outputs": []
    },
    {
      "cell_type": "code",
      "metadata": {
        "id": "xn3gN_pmTX3h",
        "colab_type": "code",
        "colab": {}
      },
      "source": [
        "from sklearn.impute import SimpleImputer\n",
        "imputer = SimpleImputer(strategy = \"median\")"
      ],
      "execution_count": 0,
      "outputs": []
    },
    {
      "cell_type": "code",
      "metadata": {
        "id": "2-vz_nlRTX2g",
        "colab_type": "code",
        "colab": {}
      },
      "source": [
        "#Drop text attributes so we can use the above imputation\n",
        "housing_num = housing.drop(\"ocean_proximity\", axis = 1)"
      ],
      "execution_count": 0,
      "outputs": []
    },
    {
      "cell_type": "code",
      "metadata": {
        "id": "tIwJE1C1TXvp",
        "colab_type": "code",
        "colab": {}
      },
      "source": [
        "imputer.fit(housing_num)"
      ],
      "execution_count": 0,
      "outputs": []
    },
    {
      "cell_type": "code",
      "metadata": {
        "id": "kaZxXPotTXuV",
        "colab_type": "code",
        "colab": {}
      },
      "source": [
        "imputer.statistics_"
      ],
      "execution_count": 0,
      "outputs": []
    },
    {
      "cell_type": "code",
      "metadata": {
        "id": "PyrQtjMgTXnv",
        "colab_type": "code",
        "colab": {}
      },
      "source": [
        "x = imputer.transform(housing_num)"
      ],
      "execution_count": 0,
      "outputs": []
    },
    {
      "cell_type": "code",
      "metadata": {
        "id": "61mEXKfJTXmt",
        "colab_type": "code",
        "colab": {}
      },
      "source": [
        "housing_tr = pd.DataFrame(x, columns=housing_num.columns, index = housing_num.index)"
      ],
      "execution_count": 0,
      "outputs": []
    },
    {
      "cell_type": "code",
      "metadata": {
        "id": "L_rW2rwPTXik",
        "colab_type": "code",
        "colab": {}
      },
      "source": [
        "housing_tr.head()"
      ],
      "execution_count": 0,
      "outputs": []
    },
    {
      "cell_type": "markdown",
      "metadata": {
        "id": "HYCj6W7kURDz",
        "colab_type": "text"
      },
      "source": [
        "Sidenote - sklearn has a very simple and consistent API. This imputer is very similar to using any of the scaling tools. "
      ]
    },
    {
      "cell_type": "code",
      "metadata": {
        "id": "8mtjNh75TXeC",
        "colab_type": "code",
        "colab": {}
      },
      "source": [
        "#Dealing with Text - simply\n",
        "\n",
        "housing_cat = housing[['ocean_proximity']]\n",
        "housing_cat.head(10)"
      ],
      "execution_count": 0,
      "outputs": []
    },
    {
      "cell_type": "code",
      "metadata": {
        "id": "2egkc66MTXbQ",
        "colab_type": "code",
        "colab": {}
      },
      "source": [
        "#ordinal encoder for creating categorical variables\n",
        "from sklearn.preprocessing import OrdinalEncoder\n",
        "ordinal_encoder = OrdinalEncoder()\n",
        "housing_cat_encoded = ordinal_encoder.fit_transform(housing_cat)\n",
        "housing_cat_encoded[:10]"
      ],
      "execution_count": 0,
      "outputs": []
    },
    {
      "cell_type": "code",
      "metadata": {
        "id": "NQ06JnuNWo-e",
        "colab_type": "code",
        "colab": {}
      },
      "source": [
        "#ordinal encoding should only really be used if the categories that we're using have a sensible and meaning order to them.\n",
        "#in this instance one hot is better\n",
        "from sklearn.preprocessing import OneHotEncoder\n",
        "cat_endcoder = OneHotEncoder()\n",
        "housing_cat_1_hot = cat_endcoder.fit_transform(housing_cat)\n",
        "housing_cat_1_hot"
      ],
      "execution_count": 0,
      "outputs": []
    },
    {
      "cell_type": "code",
      "metadata": {
        "id": "eKLQjbGyYM-Y",
        "colab_type": "code",
        "colab": {}
      },
      "source": [
        "housing_cat_1_hot.toarray()"
      ],
      "execution_count": 0,
      "outputs": []
    },
    {
      "cell_type": "code",
      "metadata": {
        "id": "8REjfarEZbSf",
        "colab_type": "code",
        "colab": {}
      },
      "source": [
        "#As with other SKlearn objects, we can get the encoders categories:\n",
        "cat_endcoder.categories_"
      ],
      "execution_count": 0,
      "outputs": []
    },
    {
      "cell_type": "code",
      "metadata": {
        "id": "4Gv_GFCBZuEN",
        "colab_type": "code",
        "colab": {}
      },
      "source": [
        "#Custom Transformers using the same fit and transform functionality can be \n",
        "#created - example shown below\n",
        "\n",
        "from sklearn.base import BaseEstimator, TransformerMixin\n",
        "rooms_ix, bedrooms_ix, population_ix, households_ix = 3, 4, 5, 6\n",
        "class CombinedAttributesAdder(BaseEstimator, TransformerMixin): # Create a new class\n",
        "  def __init__(self, add_bedrooms_per_room = True): #any options that should be set when \n",
        "    self.add_bedrooms_per_room = add_bedrooms_per_room\n",
        "  def fit(self, X, y=None): #Define a fit method\n",
        "    return self\n",
        "  def transform(self, X, y=None): #Define a tranform method\n",
        "    rooms_per_household = X[:, rooms_ix] / X[:, households_ix]\n",
        "    population_per_household = X[:, population_ix] / X[:, households_ix]\n",
        "    if self.add_bedrooms_per_room:\n",
        "      bedrooms_per_room = X[:, bedrooms_ix] / X[:, rooms_ix]\n",
        "      return np.c_[X, rooms_per_household, population_per_household,\n",
        "                   bedrooms_per_room]\n",
        "    else:\n",
        "      return np.c_[X, rooms_per_household, population_per_household]\n",
        "#This can now be used as you would any other fit/transform object in skleanr\n",
        "attr_adder = CombinedAttributesAdder(add_bedrooms_per_room = False)\n",
        "housing_extra_attribs = attr_adder.transform(housing.values)"
      ],
      "execution_count": 0,
      "outputs": []
    },
    {
      "cell_type": "markdown",
      "metadata": {
        "id": "Rz4EMUpYdl5-",
        "colab_type": "text"
      },
      "source": [
        "# Transformation Pipelines\n",
        "\n",
        "Because everything ends up as a pipeline - eventually.\n",
        "\n",
        "This is something that I've not used before, but seems very similar to the functionality that you get in the R package `recipes`"
      ]
    },
    {
      "cell_type": "code",
      "metadata": {
        "id": "w3JalHYkb4VB",
        "colab_type": "code",
        "colab": {}
      },
      "source": [
        "from sklearn.pipeline import Pipeline\n",
        "from sklearn.preprocessing import StandardScaler"
      ],
      "execution_count": 0,
      "outputs": []
    },
    {
      "cell_type": "code",
      "metadata": {
        "id": "UKEhfP_-d2Vr",
        "colab_type": "code",
        "colab": {}
      },
      "source": [
        "num_pipeline = Pipeline([\n",
        "                         ('imputer', SimpleImputer(strategy='median')),\n",
        "                         ('attribs_adder', CombinedAttributesAdder()),\n",
        "                         ('std_scaler', StandardScaler())\n",
        "])\n",
        "housing_num_tr = num_pipeline.fit_transform(housing_num)"
      ],
      "execution_count": 0,
      "outputs": []
    },
    {
      "cell_type": "code",
      "metadata": {
        "id": "svftKG-8eUiC",
        "colab_type": "code",
        "colab": {}
      },
      "source": [
        "#What if we want to handle the numerical and categorical variables altogether?\n",
        "\n",
        "from sklearn.compose import ColumnTransformer\n",
        "num_attribs = list(housing_num)#list of the numerical attributes names\n",
        "print(num_attribs)\n",
        "cat_attribs = ['ocean_proximity']\n",
        "\n",
        "full_pipeline = ColumnTransformer([\n",
        "                                   (\"num\", num_pipeline, num_attribs),\n",
        "                                   (\"cat\", OneHotEncoder(), cat_attribs)\n",
        "])\n",
        "housing_prepared = full_pipeline.fit_transform(housing)\n",
        "\n",
        "#Note that you can use `drop` and `pass through` for columns that you don't want\n",
        "# to transform in a pipeline."
      ],
      "execution_count": 0,
      "outputs": []
    },
    {
      "cell_type": "markdown",
      "metadata": {
        "id": "X3B8GmbhgE2x",
        "colab_type": "text"
      },
      "source": [
        "# Pick a model and train it"
      ]
    },
    {
      "cell_type": "code",
      "metadata": {
        "id": "ucZzMF0tfaP_",
        "colab_type": "code",
        "colab": {}
      },
      "source": [
        "#simple linear regression\n",
        "\n",
        "from sklearn.linear_model import LinearRegression\n",
        "lin_reg = LinearRegression()\n",
        "lin_reg.fit(housing_prepared, housing_labels)\n",
        "\n",
        "\n",
        "sample_data = housing.iloc[:5]\n",
        "sample_label = housing_labels.iloc[:5]\n",
        "sample_data_prepped = full_pipeline.transform(sample_data)\n",
        "print(\"Predictions:\", lin_reg.predict(sample_data_prepped))\n",
        "print(\"Labels:\",\n",
        "      list(sample_label))"
      ],
      "execution_count": 0,
      "outputs": []
    },
    {
      "cell_type": "code",
      "metadata": {
        "id": "qIO9gW7pobRC",
        "colab_type": "code",
        "colab": {}
      },
      "source": [
        "#How far off are we?\n",
        "from sklearn.metrics import mean_squared_error\n",
        "housing_predictions = lin_reg.predict(housing_prepared)\n",
        "lin_mse = mean_squared_error(housing_labels, housing_predictions)\n",
        "lin_rmse = np.sqrt(lin_mse)\n",
        "lin_rmse"
      ],
      "execution_count": 0,
      "outputs": []
    },
    {
      "cell_type": "code",
      "metadata": {
        "id": "JCRCJXPypE9-",
        "colab_type": "code",
        "colab": {}
      },
      "source": [
        "# Try a different model\n",
        "\n",
        "from sklearn.tree import DecisionTreeRegressor\n",
        "tree_reg = DecisionTreeRegressor()\n",
        "tree_reg.fit(housing_prepared, housing_labels)\n",
        "housing_predictions = tree_reg.predict(housing_prepared)\n",
        "tree_mse = mean_squared_error(housing_labels, housing_predictions)\n",
        "tree_rmse = np.sqrt(tree_mse)\n",
        "tree_rmse"
      ],
      "execution_count": 0,
      "outputs": []
    },
    {
      "cell_type": "code",
      "metadata": {
        "id": "fPN9U7kQqk5h",
        "colab_type": "code",
        "colab": {}
      },
      "source": [
        "#Now we should really be using Cross Validation\n",
        "from sklearn.model_selection import cross_val_score\n",
        "scores = cross_val_score(tree_reg, housing_prepared, housing_labels, \n",
        "                         scoring = \"neg_mean_squared_error\", cv = 10)\n",
        "#SKLearn's CV expect a utility function (greater is better)\n",
        "tree_rmse_scores = np.sqrt(-scores)"
      ],
      "execution_count": 0,
      "outputs": []
    },
    {
      "cell_type": "code",
      "metadata": {
        "id": "VR8iiuz9q_BQ",
        "colab_type": "code",
        "colab": {}
      },
      "source": [
        "def display_scores(scores):\n",
        "  print(\"Scores:\", scores)\n",
        "  print(\"Mean:\", scores.mean())\n",
        "  print(\"Standard Deviations\", scores.std())\n",
        "\n",
        "display_scores(tree_rmse_scores)"
      ],
      "execution_count": 0,
      "outputs": []
    },
    {
      "cell_type": "code",
      "metadata": {
        "id": "KtrkUJ9fri5z",
        "colab_type": "code",
        "colab": {}
      },
      "source": [
        "lin_scores = cross_val_score(lin_reg, housing_prepared, housing_labels,\n",
        "                             scoring = \"neg_mean_squared_error\", cv = 10)\n",
        "lin_rmse_scores = np.sqrt(-lin_scores)\n",
        "display_scores(lin_rmse_scores)"
      ],
      "execution_count": 0,
      "outputs": []
    },
    {
      "cell_type": "code",
      "metadata": {
        "id": "jw6026hOr2zl",
        "colab_type": "code",
        "colab": {}
      },
      "source": [
        "from sklearn.ensemble import RandomForestRegressor\n",
        "forest_reg = RandomForestRegressor()\n",
        "forest_reg.fit(housing_prepared, housing_labels)\n",
        "\n",
        "forest_scores = cross_val_score(forest_reg, housing_prepared, housing_labels, \n",
        "                                scoring = \"neg_mean_squared_error\", cv = 10)\n",
        "forest_rmse_scores = np.sqrt(-forest_scores)\n",
        "display_scores(forest_scores)"
      ],
      "execution_count": 0,
      "outputs": []
    },
    {
      "cell_type": "code",
      "metadata": {
        "id": "-G0JgOLFseO2",
        "colab_type": "code",
        "colab": {}
      },
      "source": [
        "#Okay so we have a model which is now performing a little better. \n",
        "\n",
        "#TODO: Look at hyperparameter selection using sklearn gridsearch. "
      ],
      "execution_count": 0,
      "outputs": []
    }
  ]
}
